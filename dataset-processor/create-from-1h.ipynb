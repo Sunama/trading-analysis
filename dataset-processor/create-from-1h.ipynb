{
 "cells": [
  {
   "cell_type": "code",
   "execution_count": 1,
   "id": "4fcedac2",
   "metadata": {},
   "outputs": [],
   "source": [
    "import os\n",
    "import json\n",
    "import pandas as pd\n",
    "\n",
    "from tqdm import tqdm"
   ]
  },
  {
   "cell_type": "markdown",
   "id": "492cbfdb",
   "metadata": {},
   "source": [
    "# Download Raw Dataset"
   ]
  },
  {
   "cell_type": "code",
   "execution_count": 2,
   "id": "178cdf0d",
   "metadata": {},
   "outputs": [
    {
     "name": "stdout",
     "output_type": "stream",
     "text": [
      "Directory '../datasets/unprocessed/btc-price-1m' already exists. Skipping download.\n"
     ]
    }
   ],
   "source": [
    "download_dir = '../datasets/unprocessed/btc-price-1m'\n",
    "if not os.path.exists(download_dir):\n",
    "  with open(os.path.expanduser('kaggle.json')) as f:\n",
    "    kaggle_creds = json.load(f)\n",
    "  os.environ['KAGGLE_USERNAME'] = kaggle_creds['username']\n",
    "  os.environ['KAGGLE_KEY'] = kaggle_creds['key']\n",
    "  \n",
    "  os.makedirs(download_dir, exist_ok=True)\n",
    "  !kaggle datasets download -d kaanxtr/btc-price-1m --unzip -p $download_dir\n",
    "else:\n",
    "  print(f\"Directory '{download_dir}' already exists. Skipping download.\")"
   ]
  },
  {
   "cell_type": "markdown",
   "id": "e2ee28a8",
   "metadata": {},
   "source": [
    "# Process Dataset"
   ]
  },
  {
   "cell_type": "code",
   "execution_count": 3,
   "id": "5394c5af",
   "metadata": {},
   "outputs": [],
   "source": [
    "def aggregate_ohlcv(minute_data, timeframe=\"15T\"):\n",
    "  df = pd.DataFrame(minute_data)\n",
    "  if not isinstance(df.index, pd.DatetimeIndex):\n",
    "    df[\"time\"] = pd.to_datetime(df[\"time\"], utc=True)\n",
    "    df.set_index(\"time\", inplace=True)\n",
    "  \n",
    "  # Ensure UTC\n",
    "  if df.index.tzinfo is None:\n",
    "    df.index = df.index.tz_localize(\"UTC\")\n",
    "  else:\n",
    "    df.index = df.index.tz_convert(\"UTC\")\n",
    "  \n",
    "  # Resample\n",
    "  ohlcv = df.resample(timeframe).agg({\n",
    "    \"open\": \"first\",\n",
    "    \"high\": \"max\",\n",
    "    \"low\": \"min\",\n",
    "    \"close\": \"last\",\n",
    "    \"volume\": \"sum\"\n",
    "  }).dropna()\n",
    "  \n",
    "  return ohlcv"
   ]
  },
  {
   "cell_type": "code",
   "execution_count": 4,
   "id": "7718fa73",
   "metadata": {},
   "outputs": [],
   "source": [
    "timeframes = [\"1\", \"5\", \"15\", \"1h\", \"4h\", \"1d\"]\n",
    "aggregate_timeframes = [\"1min\", \"5min\", \"15min\", \"1h\", \"4h\", \"1d\"]\n",
    "symbols = [\"BTCUSDT\", \"ETHUSDT\", \"BNBUSDT\", \"XRPUSDT\", \"SOLUSDT\"]\n",
    "\n",
    "processed_path = '../datasets/processed'"
   ]
  },
  {
   "cell_type": "code",
   "execution_count": 5,
   "id": "6b48cd97",
   "metadata": {},
   "outputs": [
    {
     "name": "stderr",
     "output_type": "stream",
     "text": [
      "Processing SOLUSDT for 1d: 100%|██████████| 5/5 [00:15<00:00,  3.12s/it]\n"
     ]
    }
   ],
   "source": [
    "pbar = tqdm(symbols, desc=\"Creating directories\")\n",
    "\n",
    "for symbol in pbar:\n",
    "  pbar.set_description(f\"Processing {symbol}\")\n",
    "  df = pd.read_csv(os.path.join(download_dir, symbol, f\"{symbol}.csv\"), parse_dates=[\"timestamp\"])\n",
    "  df.rename(columns={\"timestamp\": \"time\"}, inplace=True)\n",
    "  df.set_index(\"time\", inplace=True)\n",
    "  df[\"time\"] = df.index\n",
    "  df = df[[\"time\", \"open\", \"high\", \"low\", \"close\", \"volume\"]]\n",
    "  \n",
    "  for timeframe, agg_timeframe in zip(timeframes, aggregate_timeframes):\n",
    "    pbar.set_description(f\"Processing {symbol} for {timeframe}\")\n",
    "    directory_path = os.path.join(processed_path, timeframe)\n",
    "    os.makedirs(directory_path, exist_ok=True)\n",
    "    file_path = os.path.join(directory_path, f\"{symbol}.pkl\")\n",
    "    \n",
    "    new_df = aggregate_ohlcv(df, agg_timeframe)\n",
    "    new_df.to_pickle(file_path)"
   ]
  }
 ],
 "metadata": {
  "kernelspec": {
   "display_name": "trading-analysis",
   "language": "python",
   "name": "python3"
  },
  "language_info": {
   "codemirror_mode": {
    "name": "ipython",
    "version": 3
   },
   "file_extension": ".py",
   "mimetype": "text/x-python",
   "name": "python",
   "nbconvert_exporter": "python",
   "pygments_lexer": "ipython3",
   "version": "3.11.13"
  }
 },
 "nbformat": 4,
 "nbformat_minor": 5
}
